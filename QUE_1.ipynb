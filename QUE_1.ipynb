{
 "cells": [
  {
   "cell_type": "markdown",
   "id": "23290152",
   "metadata": {},
   "source": [
    "# 1.1"
   ]
  },
  {
   "cell_type": "markdown",
   "id": "edb4bedf",
   "metadata": {},
   "source": [
    "链接：[https://github.com/WYX-MO](https://github.com/WYX-MO)"
   ]
  },
  {
   "cell_type": "markdown",
   "id": "7a10fd38",
   "metadata": {},
   "source": [
    "## 姓名：*王逸轩*"
   ]
  },
  {
   "cell_type": "markdown",
   "id": "db0dd7d8",
   "metadata": {},
   "source": [
    "### 技术方向"
   ]
  },
  {
   "cell_type": "markdown",
   "id": "cf7a6d96",
   "metadata": {},
   "source": [
    "#### 我对*计算机视觉*和*深度学习*有极大的兴趣，学习过cv2,pipline等视觉相关的库,对pytorch这样的深度学习框架也有了解"
   ]
  },
  {
   "cell_type": "markdown",
   "id": "ddbab057",
   "metadata": {},
   "source": [
    "#### 同时我也简单的了解过数据挖掘,数据处理等相关的知识,了解过pandas和sklearn的一些用法"
   ]
  },
  {
   "cell_type": "markdown",
   "id": "55512e70",
   "metadata": {},
   "source": [
    "### 我的兴趣爱好包括但不限于:\n",
    "- 运动\n",
    "- 游戏\n",
    "- 模型(多重意义上的)\n",
    "- 阅读\n",
    "- 旅行"
   ]
  },
  {
   "cell_type": "markdown",
   "id": "913cd05f",
   "metadata": {},
   "source": [
    "### 我所掌握的语言和框架,以及开发工具有\n",
    "\n",
    "#### 语言\n",
    "[![MAN！](https://img.shields.io/badge/语言1-python-yellow.svg)](https://img.shields.io/badge/)\n",
    "我用*python*进行开发过一个公司股回收软件,运用了一点SqlServer,目前正在开发一款简单有趣的翻译软件\n",
    "\n",
    "[![MAN！](https://img.shields.io/badge/语言2-java-black.svg)](https://img.shields.io/badge/)\n",
    "*java*是我接触的比较早的一门语言,是我了解面向对象编程的启蒙,开发过一款app,调用了deepseekapi\n",
    "\n",
    "[![MAN！](https://img.shields.io/badge/语言3-C-blue.svg)](https://img.shields.io/badge/)\n",
    "*C*是我在学习数据结构时接触到的语言,也是我最早接触的编译型语言,是计算机专业主要学习的语言,我用他完成过许多的课程设计\n",
    "#### 框架\n",
    "[![MAN！](https://img.shields.io/badge/框架-pytorch-orange.svg)](https://img.shields.io/badge/)\n",
    "\n",
    "#### 工具\n",
    "[![MAN！](https://img.shields.io/badge/工具1-trae-white.svg)](https://img.shields.io/badge/)\n",
    "[![MAN！](https://img.shields.io/badge/工具2-AndroidStudio-green.svg)](https://img.shields.io/badge/)\n",
    "[![MAN！](https://img.shields.io/badge/工具3-vs-purple.svg)](https://img.shields.io/badge/)"
   ]
  },
  {
   "cell_type": "markdown",
   "id": "f4e714a8",
   "metadata": {},
   "source": [
    "![GitHub统计](https://github-readme-stats.vercel.app/api?username=WYX-MO&theme=transparent&show_icons=true)"
   ]
  },
  {
   "cell_type": "markdown",
   "id": "5fcf4f5c",
   "metadata": {},
   "source": [
    "![Top Langs](https://github-readme-stats.vercel.app/api/top-langs/?username=WYX-MO)"
   ]
  },
  {
   "cell_type": "markdown",
   "id": "28fdcf82",
   "metadata": {},
   "source": [
    "# 1.2"
   ]
  },
  {
   "cell_type": "markdown",
   "id": "46135e6b",
   "metadata": {},
   "source": []
  },
  {
   "cell_type": "markdown",
   "id": "8856a969",
   "metadata": {},
   "source": [
    "\n",
    "![man](./images4que1/shell_1.png \"mannnnnn\")\n",
    "![man](./images4que1/chorme.png \"chorme\")\n",
    "![man](./images4que1/chorme_1.png \"chorme_1\")\n",
    "![man](./images4que1/trae.png \"trae\")\n",
    "![man](./images4que1/trae_1.png \"trae_1\")\n",
    "![man](./images4que1/trae_2.png \"trae_2\")\n",
    "\n"
   ]
  },
  {
   "cell_type": "markdown",
   "id": "60a14e5f",
   "metadata": {},
   "source": []
  }
 ],
 "metadata": {
  "kernelspec": {
   "display_name": "base",
   "language": "python",
   "name": "python3"
  },
  "language_info": {
   "name": "python",
   "version": "3.12.7"
  }
 },
 "nbformat": 4,
 "nbformat_minor": 5
}
