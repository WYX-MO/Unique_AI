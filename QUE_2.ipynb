{
 "cells": [
  {
   "cell_type": "markdown",
   "id": "2f269f1e",
   "metadata": {},
   "source": [
    "# Readme\n",
    "\n"
   ]
  },
  {
   "cell_type": "markdown",
   "id": "0a09e7de",
   "metadata": {},
   "source": [
    "### 函数定义"
   ]
  },
  {
   "cell_type": "code",
   "execution_count": null,
   "id": "e3980ef7",
   "metadata": {},
   "outputs": [],
   "source": [
    "import numpy as np\n",
    "# 考虑到测试中只有一个channel,所以batchN 和 channel默认为1～所以次卷积只用于n =1,c =1\n",
    "def conv2d(x,w = None, stride=2, padding=0):\n",
    "    \"\"\"\n",
    "    2D卷积层\n",
    "    :x: 输入数据，形状为 ( C, H, W) 单张图片默认N= 0\n",
    "    :w: 卷积核，形状为 (C_out, C_in, H_k, W_k)\n",
    "    :b: 偏置项，形状为 (C_out,)\n",
    "    :stride: 步长\n",
    "    :padding: 填充\n",
    "    :return: 输出数据，形状为 ( C_out, H_out, W_out)\n",
    "    \"\"\"\n",
    "    if w is None:\n",
    "        w = np.array([[1, 0, 2],\n",
    "            [ 0, 1, 0],\n",
    "            [ 1, 0, 1]])\n",
    "    print(x.shape)\n",
    "    H, W = x.shape#读取输入的channel,和尺寸\n",
    "    H_k, W_k = w.shape#读取卷积核的channel,和尺寸\n",
    "    C_out=1\n",
    "    C_in=1\n",
    "    H_out = (H - H_k + 2 * padding) // stride + 1#计算卷积后的高宽\n",
    "    W_out = (W - W_k + 2 * padding) // stride + 1\n",
    "    #x_padded = np.pad(x, ((padding, padding), (padding, padding)), mode='constant')#填充\n",
    "    x_padded = x\n",
    "    print(x_padded)\n",
    "    out = np.zeros(( C_out, H_out, W_out))\n",
    "    for c_out in range(C_out):\n",
    "        for i in range(H_out):\n",
    "            for j in range(W_out):\n",
    "                print(x_padded[i*stride:i*stride+H_k, j*stride:j*stride+W_k])\n",
    "                print(w)\n",
    "                out[c_out, i, j] = np.sum(x_padded[i*stride:i*stride+H_k, j*stride:j*stride+W_k] * w)\n",
    "    return out\n",
    "\n",
    "def pooling(x,pool_type='max',pool_size=2,stride=2):\n",
    "    \"\"\"\n",
    "    池化层\n",
    "    :x: 输入数据，形状为 (C, H, W)\n",
    "    :pool_type: 池化类型，'max'或'avg'\n",
    "    :pool_size: 池化窗口大小\n",
    "    :stride: 步长\n",
    "    :return: 输出数据，形状为 (C, H_out, W_out)\n",
    "    \"\"\"\n",
    "    print(x.shape)\n",
    "    c ,H, W = x.shape\n",
    "    H_out = (H - pool_size) // stride + 1#计算池化后的高宽\n",
    "    W_out = (W - pool_size) // stride + 1\n",
    "    # x_padded = np.pad(x, ((padding, padding), (padding, padding)), mode='constant')\n",
    "    # c =1 \n",
    "    out = np.zeros((c,H_out, W_out))\n",
    "    for c_ in range(c):\n",
    "        for i in range(H_out):\n",
    "            for j in range(W_out):\n",
    "                if pool_type == 'max':\n",
    "                    out[0, i, j] = np.max(x[0, i*stride:i*stride+pool_size, j*stride:j*stride+pool_size])\n",
    "                elif pool_type == 'avg':\n",
    "                    out[0, i, j] = np.mean(x[0, i*stride:i*stride+pool_size, j*stride:j*stride+pool_size])\n",
    "    return out\n"
   ]
  },
  {
   "cell_type": "markdown",
   "id": "f9aecfea",
   "metadata": {},
   "source": [
    "### 测试卷积"
   ]
  },
  {
   "cell_type": "code",
   "execution_count": null,
   "id": "f20ee1e5",
   "metadata": {},
   "outputs": [
    {
     "name": "stdout",
     "output_type": "stream",
     "text": [
      "[[ 1  2  3  4  5]\n",
      " [ 7  8  9 10 11]\n",
      " [ 6  5  4  3  2]\n",
      " [ 1  2  3  4  5]\n",
      " [12 11 10  9  8]]\n",
      "(5, 5)\n",
      "[[ 1  2  3  4  5]\n",
      " [ 7  8  9 10 11]\n",
      " [ 6  5  4  3  2]\n",
      " [ 1  2  3  4  5]\n",
      " [12 11 10  9  8]]\n",
      "[[1 2 3]\n",
      " [7 8 9]\n",
      " [6 5 4]]\n",
      "[[1 0 2]\n",
      " [0 1 0]\n",
      " [1 0 1]]\n",
      "[[ 3  4  5]\n",
      " [ 9 10 11]\n",
      " [ 4  3  2]]\n",
      "[[1 0 2]\n",
      " [0 1 0]\n",
      " [1 0 1]]\n",
      "[[ 6  5  4]\n",
      " [ 1  2  3]\n",
      " [12 11 10]]\n",
      "[[1 0 2]\n",
      " [0 1 0]\n",
      " [1 0 1]]\n",
      "[[ 4  3  2]\n",
      " [ 3  4  5]\n",
      " [10  9  8]]\n",
      "[[1 0 2]\n",
      " [0 1 0]\n",
      " [1 0 1]]\n",
      "[[[25. 29.]\n",
      "  [38. 30.]]]\n",
      "(1, 2, 2)\n",
      "[[[38.]]]\n"
     ]
    }
   ],
   "source": [
    "import numpy as np\n",
    "import re\n",
    "\n",
    "# 输入矩阵总行数和总列数\n",
    "while True:\n",
    "    try:\n",
    "        rows, cols = map(int, input().split())\n",
    "        \n",
    "        if rows > 0 and cols > 0:\n",
    "            break\n",
    "        print(\"InputError please input integers fo col and row\")\n",
    "    except ValueError:\n",
    "        print(\"ERROR\")\n",
    "\n",
    "input_str = input().strip()# 输入矩阵元素\n",
    "cleaned = re.sub(r'[\\[\\]]', ' ', input_str)#移除[]\n",
    "# 分割为数字字符串列表\n",
    "num_strings = [s for s in cleaned.split() if s]\n",
    "# 转换为整数\n",
    "numbers = list(map(int, num_strings))\n",
    "\n",
    "if len(numbers) != rows * cols:\n",
    "    print(\"ERROR\")\n",
    "else:\n",
    "    # 转换为NumPy数组\n",
    "    arr = np.array(numbers).reshape(rows, cols)\n",
    "    print(arr)\n",
    "    \n",
    "conved_arr = conv2d(arr)\n",
    "print(conved_arr)\n",
    "print(pooling(conved_arr))\n"
   ]
  },
  {
   "cell_type": "markdown",
   "id": "e158118d",
   "metadata": {},
   "source": [
    "## 梯度提升证明题"
   ]
  },
  {
   "cell_type": "markdown",
   "id": "ae2d1b68",
   "metadata": {},
   "source": [
    "![man!](math.jpg)"
   ]
  },
  {
   "cell_type": "markdown",
   "id": "82440f1c",
   "metadata": {},
   "source": []
  }
 ],
 "metadata": {
  "kernelspec": {
   "display_name": "base",
   "language": "python",
   "name": "python3"
  },
  "language_info": {
   "codemirror_mode": {
    "name": "ipython",
    "version": 3
   },
   "file_extension": ".py",
   "mimetype": "text/x-python",
   "name": "python",
   "nbconvert_exporter": "python",
   "pygments_lexer": "ipython3",
   "version": "3.12.7"
  }
 },
 "nbformat": 4,
 "nbformat_minor": 5
}
